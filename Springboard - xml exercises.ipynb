{
 "cells": [
  {
   "cell_type": "code",
   "execution_count": 1,
   "metadata": {
    "collapsed": true
   },
   "outputs": [],
   "source": [
    "from xml.etree import ElementTree as ET"
   ]
  },
  {
   "cell_type": "code",
   "execution_count": 2,
   "metadata": {
    "collapsed": true
   },
   "outputs": [],
   "source": [
    "document_tree = ET.parse( './data/mondial_database.xml' )"
   ]
  },
  {
   "cell_type": "code",
   "execution_count": 3,
   "metadata": {
    "collapsed": false
   },
   "outputs": [
    {
     "name": "stdout",
     "output_type": "stream",
     "text": [
      "Lowest infant mortality rates:\n",
      "* Monaco : 1.81\n",
      "* Japan : 2.13\n",
      "* Norway : 2.48\n",
      "* Bermuda : 2.48\n",
      "* Singapore : 2.53\n",
      "* Sweden : 2.6\n",
      "* Czech Republic : 2.63\n",
      "* Hong Kong : 2.73\n",
      "* Macao : 3.13\n",
      "* Iceland : 3.15\n"
     ]
    }
   ],
   "source": [
    "# 10 countries with lowest infant mortality rates:\n",
    "\n",
    "data = []                                                    # open empty list\n",
    "for inmort in document_tree.iterfind('country'):             # start for-loop for search\n",
    "    country = inmort.find('name')                            # find name of country\n",
    "    mortality = inmort.find('infant_mortality')              # find infant mortality value\n",
    "    if mortality is not None:                                # taking care of missing values\n",
    "        data.append((country.text, float(mortality.text)))   # append text (country) and float (mortality) in list  \n",
    "data.sort(key=lambda tup: tup[1], reverse=False)             # sort data according tuple 1 (mortality), ascending \n",
    "print \"Lowest infant mortality rates:\"\n",
    "for c in data[:10]:                                          # for data in the Top Ten:\n",
    "    print \"*\" ,c[0],\":\",c[1]                         # print star, the country name, the colon, and the mortality value"
   ]
  },
  {
   "cell_type": "code",
   "execution_count": 4,
   "metadata": {
    "collapsed": false
   },
   "outputs": [
    {
     "name": "stdout",
     "output_type": "stream",
     "text": [
      "Shanghai 22315474\n",
      "Istanbul 13710512\n",
      "Mumbai 12442373\n",
      "Moskva 11979529\n",
      "Beijing 11716620\n",
      "São Paulo 11152344\n",
      "Tianjin 11090314\n",
      "Guangzhou 11071424\n",
      "Delhi 11034555\n",
      "Shenzhen 10358381\n"
     ]
    }
   ],
   "source": [
    "# 10 cities with largest population:\n",
    "\n",
    "from xml.etree import ElementTree as ET\n",
    "document_tree = ET.parse( './data/mondial_database.xml' )\n",
    "\n",
    "largest_cities = []\n",
    "\n",
    "for city in document_tree.iter(\"city\"):\n",
    "    city_name = city.find('name').text\n",
    "    # find latest pop value\n",
    "    popvalue_latest = 0\n",
    "    year_latest = 0\n",
    "    for population in city.findall('population'):\n",
    "        year = population.attrib.get('year',0) \n",
    "        popvalue = int(population.text)\n",
    "        if year > year_latest:\n",
    "            year_latest = year\n",
    "            popvalue_latest = popvalue\n",
    "    \n",
    "    largest_cities.append((city_name, popvalue_latest))\n",
    "    \n",
    "largest_cities.sort(key=lambda tup: tup[1], reverse=True)   # sort according latest population value, descending\n",
    "    \n",
    "for city in largest_cities[:10]:\n",
    "    print city[0], city[1]"
   ]
  },
  {
   "cell_type": "code",
   "execution_count": 5,
   "metadata": {
    "collapsed": false
   },
   "outputs": [
    {
     "name": "stdout",
     "output_type": "stream",
     "text": [
      "top population (latest)\n",
      "* Han Chinese: 1245058800\n",
      "* Indo-Aryan: 871815583\n",
      "* Dravidian: 302713744\n",
      "* Bengali: 146776917\n",
      "* Japanese: 126534212\n",
      "* Eastern Hamitic: 82830377\n",
      "* Mulatto: 78065896\n",
      "* Viet/Kinh: 76078375\n",
      "* English: 53592327\n",
      "* Mediterranean Nordic: 46815916\n",
      "\n",
      "top population (census)\n",
      "* Han Chinese: 1225848240\n",
      "* Indo-Aryan: 871815583\n",
      "* Dravidian: 302713744\n",
      "* Bengali: 146776917\n",
      "* Japanese: 127289008\n",
      "* Viet/Kinh: 73570876\n",
      "* Mulatto: 73432087\n",
      "* Eastern Hamitic: 72070051\n",
      "* English: 52820301\n",
      "* Mediterranean Nordic: 46815916\n"
     ]
    }
   ],
   "source": [
    "# 10 ethnic groups with the largest overall populations (sum of best/latest estimates over all countries):\n",
    "\n",
    "d_ethnic = {}                                           # open empty dictionary\n",
    "\n",
    "for country in document_tree.findall('country'):\n",
    "    # First: find latest estimates of population\n",
    "    pop_latest = -1                                     # -1 (int) indicates that there is no value\n",
    "    pop_latest_year = 0                                 # set variable to 0\n",
    "    \n",
    "    # Second: find best estimates of population\n",
    "    pop_census = -1               \n",
    "    pop_census_year = 0\n",
    "    \n",
    "    for pop in country.findall('population'):           # for-loop to search for population values\n",
    "        year = int(pop.attrib.get(\"year\", \"0\"))         # 'year' is an attribute    \n",
    "                                                        # 0 as default value if there's no attribute 'year' \n",
    "        if year > pop_latest_year:                      # if this year is greater than the one you have seen so far:\n",
    "            pop_latest = int(pop.text)                  # give me the integer of this variable\n",
    "            pop_latest_year = year                      # remember this as the latest year so far\n",
    "        \n",
    "        if pop.attrib.get(\"measured\", '') == 'census':  #if there's attribute called \"measured' that equals 'cencus\"\n",
    "            \n",
    "            if year > pop_census_year:                  # if the year there is bigger than the one you have seen so far:\n",
    "                pop_census = int(pop.text)              # give me the integer of this variable\n",
    "                pop_census_year = year                  # remember this as the latest year so far\n",
    "    \n",
    "    # Now: I have to sum up ethnic groups\n",
    "    for egroup in country.findall('ethnicgroup'):       # for ethnic group applies:\n",
    "        pct = float(egroup.attrib.get(\"percentage\", \"0\")) / 100.0  # pct is the float of its attribute \"percentage\"\n",
    "        \n",
    "        absvalue_latest = pop_latest * pct              # the value of latest = pop_latest (int) * pct (float)\n",
    "        absvalue_census = pop_census * pct              # the value of cencus = pop_latest (int) * pct (float)\n",
    "        egroup_name = egroup.text                       # take the text of egroup for the regarding egroup\n",
    "        \n",
    "        if egroup_name not in data:                     # if there are missings in egroup:\n",
    "            d_ethnic[egroup_name] = [0,0]               # take this list/array to store both values (latest und census) in one\n",
    "        \n",
    "        latest_census = d_ethnic[egroup_name]           # take the name of the egroup\n",
    "        latest_census[0] += absvalue_latest             # take the value of the latest estimate (year 2011)\n",
    "        latest_census[1] += absvalue_census             # take the value of the best estimate (census)\n",
    "        d_ethnic[egroup_name] = latest_census           # remember tthis value\n",
    "\n",
    "results = d_ethnic.items()                              # items-command because of dictionary \n",
    "                                                        # items are an array of (key, value) tuples\n",
    "\n",
    "# BUT: I can't sort a dictionary\n",
    "results.sort(key=lambda tup: tup[1][0], reverse=True)   # sort according latest population value, desecending\n",
    "print \"top population (latest)\"                         # print this\n",
    "for c in results[:10]:                                  # for the values in results (Top Ten) applies:\n",
    "    print \"* %s: %.0f\" % (c[0], c[1][0])                # print star, string, colon, no decimal\n",
    "print\n",
    "    \n",
    "results.sort(key=lambda tup: tup[1][1], reverse=True)   # sort according best population value, desecending\n",
    "print \"top population (census)\"                         # print this\n",
    "for c in results[:10]:                                  # for the values in results (Top Ten) applies:\n",
    "    print \"* %s: %.0f\" % (c[0], c[1][1])                #% string: % float with ... decimals (here: 0)"
   ]
  },
  {
   "cell_type": "code",
   "execution_count": 6,
   "metadata": {
    "collapsed": false
   },
   "outputs": [
    {
     "name": "stdout",
     "output_type": "stream",
     "text": [
      "longest river:\n",
      "CO BR PE Amazonas 6448.0\n"
     ]
    }
   ],
   "source": [
    "# name and country of a) longest river:\n",
    "\n",
    "longest_river_length = 0\n",
    "longest_river_name = None\n",
    "longest_river_country = None\n",
    "\n",
    "for river in document_tree.findall('river'):\n",
    "    country_name = river.attrib.get(\"country\",\"-\")\n",
    "    river_name = river.find('name').text\n",
    "    \n",
    "    # get river length (can be missing)\n",
    "    river_length_node = river.find('length')\n",
    "    river_length = -1\n",
    "    if river_length_node is not None:\n",
    "        river_length = float(river_length_node.text)\n",
    "    \n",
    "    # check if current river length is longer than what we have seen before\n",
    "    if river_length > longest_river_length:\n",
    "        longest_river_length = river_length\n",
    "        longest_river_name = river_name\n",
    "        longest_river_country = country_name\n",
    "\n",
    "print \"longest river:\"\n",
    "print longest_river_country, longest_river_name, longest_river_length"
   ]
  },
  {
   "cell_type": "code",
   "execution_count": 7,
   "metadata": {
    "collapsed": false
   },
   "outputs": [
    {
     "name": "stdout",
     "output_type": "stream",
     "text": [
      "largest lake:\n",
      "R AZ KAZ IR TM Caspian Sea 386400.0\n"
     ]
    }
   ],
   "source": [
    "# name and country of b) largest lake:\n",
    "\n",
    "largest_lake_area = 0\n",
    "largest_lake_name = None\n",
    "largest_lake_country = None\n",
    "\n",
    "for lake in document_tree.findall('lake'):\n",
    "    country_name = lake.attrib.get(\"country\",\"-\")\n",
    "    lake_name = lake.find('name').text\n",
    "    \n",
    "    # get lake area (can be missing)\n",
    "    lake_area_node = lake.find('area')\n",
    "    lake_area = -1\n",
    "    if lake_area_node is not None:\n",
    "        if lake_area_node.text is not None:\n",
    "            lake_area = float(lake_area_node.text)\n",
    "    \n",
    "    # check if current lake area is higher than what we have seen before\n",
    "    if lake_area > largest_lake_area:\n",
    "        largest_lake_area = lake_area\n",
    "        largest_lake_name = lake_name\n",
    "        largest_lake_country = country_name\n",
    "\n",
    "print \"largest lake:\"\n",
    "print largest_lake_country, largest_lake_name, largest_lake_area"
   ]
  },
  {
   "cell_type": "code",
   "execution_count": 8,
   "metadata": {
    "collapsed": false
   },
   "outputs": [
    {
     "name": "stdout",
     "output_type": "stream",
     "text": [
      "highest airport:\n",
      "BOL El Alto Intl 4063.0\n"
     ]
    }
   ],
   "source": [
    "# name and country of c) airport at highest elevation:\n",
    "\n",
    "highest_airport_elevation = 0\n",
    "highest_airport_name = None\n",
    "highest_airport_country = None\n",
    "\n",
    "for airport in document_tree.findall('airport'):\n",
    "    country_name = airport.attrib.get(\"country\",\"-\")\n",
    "    airport_name = airport.find('name').text\n",
    "    \n",
    "    # get airport length (can be missing)\n",
    "    airport_elevation_node = airport.find('elevation')\n",
    "    airport_elevation = -1\n",
    "    if airport_elevation_node is not None:\n",
    "        if airport_elevation_node.text is not None:\n",
    "            airport_elevation = float(airport_elevation_node.text)\n",
    "    \n",
    "    # check if current airport elevation is higher than what we have seen before\n",
    "    if airport_elevation > highest_airport_elevation:\n",
    "        highest_airport_elevation = airport_elevation\n",
    "        highest_airport_name = airport_name\n",
    "        highest_airport_country = country_name\n",
    "\n",
    "print \"highest airport:\"\n",
    "print highest_airport_country, highest_airport_name, highest_airport_elevation"
   ]
  }
 ],
 "metadata": {
  "kernelspec": {
   "display_name": "Python 2",
   "language": "python",
   "name": "python2"
  },
  "language_info": {
   "codemirror_mode": {
    "name": "ipython",
    "version": 2
   },
   "file_extension": ".py",
   "mimetype": "text/x-python",
   "name": "python",
   "nbconvert_exporter": "python",
   "pygments_lexer": "ipython2",
   "version": "2.7.11"
  }
 },
 "nbformat": 4,
 "nbformat_minor": 0
}
